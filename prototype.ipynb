{
 "cells": [
  {
   "cell_type": "code",
   "execution_count": 41,
   "metadata": {},
   "outputs": [
    {
     "name": "stdout",
     "output_type": "stream",
     "text": [
      "Current stock price of AAPL: $169.65\n",
      "Expected growth rate for AAPL: 2.99%\n",
      "Intrinsic stock value of AAPL: $122.03\n"
     ]
    }
   ],
   "source": [
    "import streamlit as st\n",
    "import yfinance as yf\n",
    "\n",
    "def growth_rate_estimator(ticker, period):\n",
    "    try:\n",
    "        # Fetch historical data for the stock\n",
    "        stock = yf.Ticker(ticker)\n",
    "        history = stock.history(period=period)  # Adjust the period as needed\n",
    "\n",
    "        # Calculate annualized growth rate (CAGR)\n",
    "        initial_price = history[\"Close\"].iloc[0]\n",
    "        final_price = history[\"Close\"].iloc[-1]\n",
    "        num_years = len(history) / 252  # Assuming 252 trading days per year\n",
    "        cagr = (final_price / initial_price) ** (1 / num_years) - 1\n",
    "\n",
    "        return cagr\n",
    "    except Exception as e:\n",
    "        return f\"Error estimating growth rate for {ticker}: {str(e)}\"\n",
    "\n",
    "def pe_ratio_estimator(ticker, growth_rate):\n",
    "    try:\n",
    "        # Get stock data\n",
    "        stock = yf.Ticker(ticker)\n",
    "        eps = stock.info['trailingEps']\n",
    "        pe_ratio = stock.info['trailingPE']\n",
    "\n",
    "        # Calculate intrinsic value\n",
    "        intrinsic_value = eps * (1 + growth_rate) ** 5 * pe_ratio\n",
    "\n",
    "        # Discount to present value (using 10% discount rate)\n",
    "        discount_rate = 0.10\n",
    "        present_value = intrinsic_value / (1 + discount_rate) ** 5\n",
    "\n",
    "        return present_value\n",
    "    except Exception as e:\n",
    "        return f\"Error: {str(e)}\"\n",
    "\n",
    "def get_stock_price(ticker):\n",
    "    try:\n",
    "        # Fetch stock data using yfinance\n",
    "        stock = yf.Ticker(ticker)\n",
    "        stock_history = stock.history(period=\"1d\")  # Fetch historical data for 1 day\n",
    "\n",
    "        # Extract the current stock price\n",
    "        stock_price = stock_history[\"Close\"].iloc[0]\n",
    "\n",
    "        return stock_price\n",
    "    except Exception as e:\n",
    "        return f\"Error fetching stock price for {ticker}: {str(e)}\"\n",
    "\n",
    "\n",
    "\n",
    "ticker = 'AAPL'\n",
    "period = \"1y\"\n",
    "# “1d”, “5d”, “1mo”, “3mo”, “6mo”, “1y”, “2y”, “5y”, “10y”, “ytd”\n",
    "\n",
    "print(f\"Current stock price of {ticker}: ${get_stock_price(ticker):.2f}\")\n",
    "print(f\"Expected growth rate for {ticker}: {growth_rate_estimator(ticker, period):.2%}\")\n",
    "print(f\"Intrinsic stock value of {ticker}: ${pe_ratio_estimator(ticker, growth_rate_estimator(ticker, period)):.2f}\")"
   ]
  },
  {
   "cell_type": "code",
   "execution_count": 42,
   "metadata": {},
   "outputs": [
    {
     "name": "stdout",
     "output_type": "stream",
     "text": [
      "Intrinsic value of AAPL: $184.56\n"
     ]
    }
   ],
   "source": [
    "def dcf_estimator(ticker):\n",
    "    try:\n",
    "        # Get stock data\n",
    "        stock = yf.Ticker(ticker)\n",
    "        eps = stock.info['trailingEps']\n",
    "        pe_ratio = stock.info['trailingPE']\n",
    "\n",
    "        # Calculate historical CAGR (3-year period)\n",
    "        historical_eps = [10, 12, 14]  # Example EPS data for years 1, 2, and 3\n",
    "        num_years = len(historical_eps)\n",
    "        cagr = ((historical_eps[-1] / historical_eps[0]) ** (1 / num_years)) - 1\n",
    "\n",
    "        # Calculate intrinsic value\n",
    "        expected_growth_rate = cagr\n",
    "        intrinsic_value = eps * (1 + expected_growth_rate) ** 5 * pe_ratio\n",
    "\n",
    "        # Discount to present value (using 10% discount rate)\n",
    "        discount_rate = 0.10\n",
    "        present_value = intrinsic_value / (1 + discount_rate) ** 5\n",
    "\n",
    "        return present_value\n",
    "    except Exception as e:\n",
    "        return f\"Error: {str(e)}\"\n",
    "    \n",
    "# Calculate intrinsic value\n",
    "result = dcf_estimator(ticker)\n",
    "print(f\"Intrinsic value of {ticker}: ${result:.2f}\")\n"
   ]
  },
  {
   "cell_type": "code",
   "execution_count": 52,
   "metadata": {},
   "outputs": [
    {
     "name": "stdout",
     "output_type": "stream",
     "text": [
      "GOOGL belongs to the Communication Services sector.\n",
      "Market cap of Communication Services sector: $1932177702912.00 (in billions)\n"
     ]
    }
   ],
   "source": [
    "import yfinance as yf\n",
    "\n",
    "def get_sector_and_market_cap(ticker):\n",
    "    try:\n",
    "        # Fetch stock data using yfinance\n",
    "        stock = yf.Ticker(ticker)\n",
    "        stock_info = stock.info\n",
    "\n",
    "        # Extract sector and market cap\n",
    "        sector = stock_info.get(\"sector\")\n",
    "        market_cap = stock_info.get(\"marketCap\")\n",
    "\n",
    "        return sector, market_cap\n",
    "    except Exception as e:\n",
    "        return f\"Error fetching data for {ticker}: {str(e)}\"\n",
    "\n",
    "def calculate_total_market_cap(tickers):\n",
    "    total_market_cap = 0\n",
    "    for t in tickers:\n",
    "        _, market_cap = get_sector_and_market_cap(t)\n",
    "        if isinstance(market_cap, int):\n",
    "            total_market_cap += market_cap\n",
    "    return total_market_cap\n",
    "\n",
    "# Example usage\n",
    "sector, market_cap = get_sector_and_market_cap(ticker)\n",
    "\n",
    "if sector and isinstance(market_cap, int):\n",
    "    print(f\"{ticker} belongs to the {sector} sector.\")\n",
    "    print(f\"Market cap of {sector} sector: ${market_cap:.2f} (in billions)\")\n",
    "else:\n",
    "    print(sector)"
   ]
  },
  {
   "cell_type": "code",
   "execution_count": null,
   "metadata": {},
   "outputs": [],
   "source": [
    "yf.Ticker('NVDA')"
   ]
  },
  {
   "cell_type": "code",
   "execution_count": 77,
   "metadata": {},
   "outputs": [
    {
     "name": "stdout",
     "output_type": "stream",
     "text": [
      "AAPL belongs to the Technology sector.\n",
      "Market cap of Technology sector: $2619718238208.00 (in billions)\n",
      "Total net earnings of Technology sector: $96995000000.00 (in billions)\n"
     ]
    }
   ],
   "source": [
    "import time\n",
    "\n",
    "\n",
    "\n",
    "# if sector and isinstance(market_cap, int) and isinstance(net_earnings, int):\n",
    "print(f\"{ticker} belongs to the {sector} sector.\")\n",
    "print(f\"Market cap of {sector} sector: ${market_cap:.2f} (in billions)\")\n",
    "print(f\"Total net earnings of {sector} sector: ${net_earnings:.2f} (in billions)\")"
   ]
  },
  {
   "cell_type": "code",
   "execution_count": 81,
   "metadata": {},
   "outputs": [
    {
     "name": "stdout",
     "output_type": "stream",
     "text": [
      "Intrinsic value of AAPL: $173.94\n"
     ]
    }
   ],
   "source": [
    "def get_sector_and_financials(ticker):\n",
    "    try:\n",
    "        # Fetch stock data using yfinance\n",
    "        stock = yf.Ticker(ticker)\n",
    "        stock_info = stock.info\n",
    "        # time.sleep(0.02)\n",
    "        stock_financials = stock.financials\n",
    "\n",
    "        # Extract sector, market cap, and net earnings\n",
    "        sector = stock_info.get(\"sector\")\n",
    "        market_cap = stock_info.get(\"marketCap\")\n",
    "        net_earnings = stock_financials.loc[\"Net Income\"].iloc[0]\n",
    "\n",
    "        return sector, market_cap, net_earnings\n",
    "    except Exception as e:\n",
    "        return f\"Error fetching data for {ticker}: {str(e)}\"\n",
    "\n",
    "def calculate_total_market_cap_and_earnings(tickers):\n",
    "    total_market_cap = 0\n",
    "    total_earnings = 0\n",
    "    for t in tickers:\n",
    "        _, market_cap, net_earnings = get_sector_and_financials(t)\n",
    "        if isinstance(market_cap, int) and isinstance(net_earnings, int):\n",
    "            total_market_cap += market_cap\n",
    "            total_earnings += net_earnings\n",
    "    return total_market_cap, total_earnings\n",
    "\n",
    "# Example usage\n",
    "# ticker = input(\"Enter a stock ticker (e.g., AAPL): \")\n",
    "sector, market_cap, net_earnings = get_sector_and_financials(ticker)\n",
    "\n",
    "def calculate_market_pe_ratio(market_cap, net_earnings):\n",
    "    try:\n",
    "        market_pe_ratio = market_cap / net_earnings\n",
    "        return market_pe_ratio\n",
    "    except ZeroDivisionError:\n",
    "        return \"Error: Total net earnings are zero.\"\n",
    "\n",
    "def pe_relative_estimator(ticker, market_pe_ratio):\n",
    "    try:\n",
    "        # Get stock data\n",
    "        stock = yf.Ticker(ticker)\n",
    "        eps = stock.info['trailingEps']\n",
    "\n",
    "        # Calculate intrinsic value using P/E Relative approach\n",
    "        intrinsic_value = eps * market_pe_ratio\n",
    "\n",
    "        return intrinsic_value\n",
    "    except Exception as e:\n",
    "        return f\"Error: {str(e)}\"\n",
    "\n",
    "intrinsic_value = pe_relative_estimator(ticker, calculate_market_pe_ratio(market_cap, net_earnings))\n",
    "print(f\"Intrinsic value of {ticker}: ${intrinsic_value:.2f}\")"
   ]
  }
 ],
 "metadata": {
  "kernelspec": {
   "display_name": "Python 3",
   "language": "python",
   "name": "python3"
  },
  "language_info": {
   "codemirror_mode": {
    "name": "ipython",
    "version": 3
   },
   "file_extension": ".py",
   "mimetype": "text/x-python",
   "name": "python",
   "nbconvert_exporter": "python",
   "pygments_lexer": "ipython3",
   "version": "3.9.19"
  }
 },
 "nbformat": 4,
 "nbformat_minor": 2
}
